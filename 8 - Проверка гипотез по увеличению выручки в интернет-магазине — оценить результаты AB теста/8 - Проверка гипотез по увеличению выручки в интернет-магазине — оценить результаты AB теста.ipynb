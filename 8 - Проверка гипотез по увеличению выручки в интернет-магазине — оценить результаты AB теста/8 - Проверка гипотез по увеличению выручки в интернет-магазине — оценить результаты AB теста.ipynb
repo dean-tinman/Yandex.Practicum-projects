{
 "cells": [
  {
   "cell_type": "markdown",
   "id": "9973418b",
   "metadata": {},
   "source": [
    "# Вы — аналитик крупного интернет-магазина. Вместе с отделом маркетинга вы подготовили список гипотез для увеличения выручки. ##\n",
    "***\n",
    "**Приоритизируйте гипотезы, запустите A/B-тест и проанализируйте результаты.**\n",
    "***"
   ]
  },
  {
   "cell_type": "code",
   "execution_count": 1,
   "id": "94d3be21",
   "metadata": {},
   "outputs": [],
   "source": [
    "import pandas as pd\n",
    "import numpy as np\n",
    "import matplotlib.pyplot as plt\n",
    "import seaborn as sns\n",
    "import scipy.stats as stats\n",
    "import datetime as dt"
   ]
  },
  {
   "cell_type": "markdown",
   "id": "38c3ce09",
   "metadata": {},
   "source": [
    "# Первичное ознакомление с данными"
   ]
  },
  {
   "cell_type": "code",
   "execution_count": 2,
   "id": "0db5c7bd",
   "metadata": {},
   "outputs": [],
   "source": [
    "hypothesis = pd.read_csv('https://code.s3.yandex.net/datasets/hypothesis.csv')\n",
    "orders = pd.read_csv('https://code.s3.yandex.net/datasets/orders.csv')\n",
    "visitors = pd.read_csv('https://code.s3.yandex.net/datasets/visitors.csv')"
   ]
  },
  {
   "cell_type": "markdown",
   "id": "dd333dad",
   "metadata": {},
   "source": [
    "## Гипотезы"
   ]
  },
  {
   "cell_type": "code",
   "execution_count": 3,
   "id": "52574ce3",
   "metadata": {},
   "outputs": [
    {
     "data": {
      "text/html": [
       "<div>\n",
       "<style scoped>\n",
       "    .dataframe tbody tr th:only-of-type {\n",
       "        vertical-align: middle;\n",
       "    }\n",
       "\n",
       "    .dataframe tbody tr th {\n",
       "        vertical-align: top;\n",
       "    }\n",
       "\n",
       "    .dataframe thead th {\n",
       "        text-align: right;\n",
       "    }\n",
       "</style>\n",
       "<table border=\"1\" class=\"dataframe\">\n",
       "  <thead>\n",
       "    <tr style=\"text-align: right;\">\n",
       "      <th></th>\n",
       "      <th>Hypothesis</th>\n",
       "      <th>Reach</th>\n",
       "      <th>Impact</th>\n",
       "      <th>Confidence</th>\n",
       "      <th>Efforts</th>\n",
       "    </tr>\n",
       "  </thead>\n",
       "  <tbody>\n",
       "    <tr>\n",
       "      <th>0</th>\n",
       "      <td>Добавить два новых канала привлечения трафика, что позволит привлекать на 30% больше пользователей</td>\n",
       "      <td>3</td>\n",
       "      <td>10</td>\n",
       "      <td>8</td>\n",
       "      <td>6</td>\n",
       "    </tr>\n",
       "    <tr>\n",
       "      <th>1</th>\n",
       "      <td>Запустить собственную службу доставки, что сократит срок доставки заказов</td>\n",
       "      <td>2</td>\n",
       "      <td>5</td>\n",
       "      <td>4</td>\n",
       "      <td>10</td>\n",
       "    </tr>\n",
       "    <tr>\n",
       "      <th>2</th>\n",
       "      <td>Добавить блоки рекомендаций товаров на сайт интернет магазина, чтобы повысить конверсию и средний чек заказа</td>\n",
       "      <td>8</td>\n",
       "      <td>3</td>\n",
       "      <td>7</td>\n",
       "      <td>3</td>\n",
       "    </tr>\n",
       "    <tr>\n",
       "      <th>3</th>\n",
       "      <td>Изменить структура категорий, что увеличит конверсию, т.к. пользователи быстрее найдут нужный товар</td>\n",
       "      <td>8</td>\n",
       "      <td>3</td>\n",
       "      <td>3</td>\n",
       "      <td>8</td>\n",
       "    </tr>\n",
       "    <tr>\n",
       "      <th>4</th>\n",
       "      <td>Изменить цвет фона главной страницы, чтобы увеличить вовлеченность пользователей</td>\n",
       "      <td>3</td>\n",
       "      <td>1</td>\n",
       "      <td>1</td>\n",
       "      <td>1</td>\n",
       "    </tr>\n",
       "    <tr>\n",
       "      <th>5</th>\n",
       "      <td>Добавить страницу отзывов клиентов о магазине, что позволит увеличить количество заказов</td>\n",
       "      <td>3</td>\n",
       "      <td>2</td>\n",
       "      <td>2</td>\n",
       "      <td>3</td>\n",
       "    </tr>\n",
       "    <tr>\n",
       "      <th>6</th>\n",
       "      <td>Показать на главной странице баннеры с актуальными акциями и распродажами, чтобы увеличить конверсию</td>\n",
       "      <td>5</td>\n",
       "      <td>3</td>\n",
       "      <td>8</td>\n",
       "      <td>3</td>\n",
       "    </tr>\n",
       "    <tr>\n",
       "      <th>7</th>\n",
       "      <td>Добавить форму подписки на все основные страницы, чтобы собрать базу клиентов для email-рассылок</td>\n",
       "      <td>10</td>\n",
       "      <td>7</td>\n",
       "      <td>8</td>\n",
       "      <td>5</td>\n",
       "    </tr>\n",
       "    <tr>\n",
       "      <th>8</th>\n",
       "      <td>Запустить акцию, дающую скидку на товар в день рождения</td>\n",
       "      <td>1</td>\n",
       "      <td>9</td>\n",
       "      <td>9</td>\n",
       "      <td>5</td>\n",
       "    </tr>\n",
       "  </tbody>\n",
       "</table>\n",
       "</div>"
      ],
      "text/plain": [
       "                                                                                                     Hypothesis  \\\n",
       "0            Добавить два новых канала привлечения трафика, что позволит привлекать на 30% больше пользователей   \n",
       "1                                     Запустить собственную службу доставки, что сократит срок доставки заказов   \n",
       "2  Добавить блоки рекомендаций товаров на сайт интернет магазина, чтобы повысить конверсию и средний чек заказа   \n",
       "3           Изменить структура категорий, что увеличит конверсию, т.к. пользователи быстрее найдут нужный товар   \n",
       "4                              Изменить цвет фона главной страницы, чтобы увеличить вовлеченность пользователей   \n",
       "5                      Добавить страницу отзывов клиентов о магазине, что позволит увеличить количество заказов   \n",
       "6          Показать на главной странице баннеры с актуальными акциями и распродажами, чтобы увеличить конверсию   \n",
       "7              Добавить форму подписки на все основные страницы, чтобы собрать базу клиентов для email-рассылок   \n",
       "8                                                       Запустить акцию, дающую скидку на товар в день рождения   \n",
       "\n",
       "   Reach  Impact  Confidence  Efforts  \n",
       "0      3      10           8        6  \n",
       "1      2       5           4       10  \n",
       "2      8       3           7        3  \n",
       "3      8       3           3        8  \n",
       "4      3       1           1        1  \n",
       "5      3       2           2        3  \n",
       "6      5       3           8        3  \n",
       "7     10       7           8        5  \n",
       "8      1       9           9        5  "
      ]
     },
     "execution_count": 3,
     "metadata": {},
     "output_type": "execute_result"
    }
   ],
   "source": [
    "pd.options.display.max_colwidth = None\n",
    "hypothesis"
   ]
  },
  {
   "cell_type": "markdown",
   "id": "68454f89",
   "metadata": {},
   "source": [
    "## Заказы"
   ]
  },
  {
   "cell_type": "code",
   "execution_count": 4,
   "id": "4b5b9386",
   "metadata": {},
   "outputs": [
    {
     "data": {
      "text/html": [
       "<div>\n",
       "<style scoped>\n",
       "    .dataframe tbody tr th:only-of-type {\n",
       "        vertical-align: middle;\n",
       "    }\n",
       "\n",
       "    .dataframe tbody tr th {\n",
       "        vertical-align: top;\n",
       "    }\n",
       "\n",
       "    .dataframe thead th {\n",
       "        text-align: right;\n",
       "    }\n",
       "</style>\n",
       "<table border=\"1\" class=\"dataframe\">\n",
       "  <thead>\n",
       "    <tr style=\"text-align: right;\">\n",
       "      <th></th>\n",
       "      <th>transactionId</th>\n",
       "      <th>visitorId</th>\n",
       "      <th>date</th>\n",
       "      <th>revenue</th>\n",
       "      <th>group</th>\n",
       "    </tr>\n",
       "  </thead>\n",
       "  <tbody>\n",
       "    <tr>\n",
       "      <th>0</th>\n",
       "      <td>3667963787</td>\n",
       "      <td>3312258926</td>\n",
       "      <td>2019-08-15</td>\n",
       "      <td>1650</td>\n",
       "      <td>B</td>\n",
       "    </tr>\n",
       "    <tr>\n",
       "      <th>1</th>\n",
       "      <td>2804400009</td>\n",
       "      <td>3642806036</td>\n",
       "      <td>2019-08-15</td>\n",
       "      <td>730</td>\n",
       "      <td>B</td>\n",
       "    </tr>\n",
       "    <tr>\n",
       "      <th>2</th>\n",
       "      <td>2961555356</td>\n",
       "      <td>4069496402</td>\n",
       "      <td>2019-08-15</td>\n",
       "      <td>400</td>\n",
       "      <td>A</td>\n",
       "    </tr>\n",
       "    <tr>\n",
       "      <th>3</th>\n",
       "      <td>3797467345</td>\n",
       "      <td>1196621759</td>\n",
       "      <td>2019-08-15</td>\n",
       "      <td>9759</td>\n",
       "      <td>B</td>\n",
       "    </tr>\n",
       "    <tr>\n",
       "      <th>4</th>\n",
       "      <td>2282983706</td>\n",
       "      <td>2322279887</td>\n",
       "      <td>2019-08-15</td>\n",
       "      <td>2308</td>\n",
       "      <td>B</td>\n",
       "    </tr>\n",
       "    <tr>\n",
       "      <th>...</th>\n",
       "      <td>...</td>\n",
       "      <td>...</td>\n",
       "      <td>...</td>\n",
       "      <td>...</td>\n",
       "      <td>...</td>\n",
       "    </tr>\n",
       "    <tr>\n",
       "      <th>1192</th>\n",
       "      <td>2662137336</td>\n",
       "      <td>3733762160</td>\n",
       "      <td>2019-08-14</td>\n",
       "      <td>6490</td>\n",
       "      <td>B</td>\n",
       "    </tr>\n",
       "    <tr>\n",
       "      <th>1193</th>\n",
       "      <td>2203539145</td>\n",
       "      <td>370388673</td>\n",
       "      <td>2019-08-14</td>\n",
       "      <td>3190</td>\n",
       "      <td>A</td>\n",
       "    </tr>\n",
       "    <tr>\n",
       "      <th>1194</th>\n",
       "      <td>1807773912</td>\n",
       "      <td>573423106</td>\n",
       "      <td>2019-08-14</td>\n",
       "      <td>10550</td>\n",
       "      <td>A</td>\n",
       "    </tr>\n",
       "    <tr>\n",
       "      <th>1195</th>\n",
       "      <td>1947021204</td>\n",
       "      <td>1614305549</td>\n",
       "      <td>2019-08-14</td>\n",
       "      <td>100</td>\n",
       "      <td>A</td>\n",
       "    </tr>\n",
       "    <tr>\n",
       "      <th>1196</th>\n",
       "      <td>3936777065</td>\n",
       "      <td>2108080724</td>\n",
       "      <td>2019-08-15</td>\n",
       "      <td>202740</td>\n",
       "      <td>B</td>\n",
       "    </tr>\n",
       "  </tbody>\n",
       "</table>\n",
       "<p>1197 rows × 5 columns</p>\n",
       "</div>"
      ],
      "text/plain": [
       "      transactionId   visitorId       date  revenue group\n",
       "0        3667963787  3312258926 2019-08-15     1650     B\n",
       "1        2804400009  3642806036 2019-08-15      730     B\n",
       "2        2961555356  4069496402 2019-08-15      400     A\n",
       "3        3797467345  1196621759 2019-08-15     9759     B\n",
       "4        2282983706  2322279887 2019-08-15     2308     B\n",
       "...             ...         ...        ...      ...   ...\n",
       "1192     2662137336  3733762160 2019-08-14     6490     B\n",
       "1193     2203539145   370388673 2019-08-14     3190     A\n",
       "1194     1807773912   573423106 2019-08-14    10550     A\n",
       "1195     1947021204  1614305549 2019-08-14      100     A\n",
       "1196     3936777065  2108080724 2019-08-15   202740     B\n",
       "\n",
       "[1197 rows x 5 columns]"
      ]
     },
     "execution_count": 4,
     "metadata": {},
     "output_type": "execute_result"
    }
   ],
   "source": [
    "orders.date = orders.date.map(lambda x:dt.datetime.strptime(x, '%Y-%m-%d'))\n",
    "orders"
   ]
  },
  {
   "cell_type": "code",
   "execution_count": 5,
   "id": "f143246a",
   "metadata": {},
   "outputs": [
    {
     "data": {
      "text/html": [
       "<div>\n",
       "<style scoped>\n",
       "    .dataframe tbody tr th:only-of-type {\n",
       "        vertical-align: middle;\n",
       "    }\n",
       "\n",
       "    .dataframe tbody tr th {\n",
       "        vertical-align: top;\n",
       "    }\n",
       "\n",
       "    .dataframe thead tr th {\n",
       "        text-align: left;\n",
       "    }\n",
       "\n",
       "    .dataframe thead tr:last-of-type th {\n",
       "        text-align: right;\n",
       "    }\n",
       "</style>\n",
       "<table border=\"1\" class=\"dataframe\">\n",
       "  <thead>\n",
       "    <tr>\n",
       "      <th></th>\n",
       "      <th colspan=\"3\" halign=\"left\">revenue</th>\n",
       "    </tr>\n",
       "    <tr>\n",
       "      <th></th>\n",
       "      <th>sum</th>\n",
       "      <th>mean</th>\n",
       "      <th>count</th>\n",
       "    </tr>\n",
       "    <tr>\n",
       "      <th>group</th>\n",
       "      <th></th>\n",
       "      <th></th>\n",
       "      <th></th>\n",
       "    </tr>\n",
       "  </thead>\n",
       "  <tbody>\n",
       "    <tr>\n",
       "      <th>A</th>\n",
       "      <td>4084803</td>\n",
       "      <td>7333.578097</td>\n",
       "      <td>557</td>\n",
       "    </tr>\n",
       "    <tr>\n",
       "      <th>B</th>\n",
       "      <td>5907760</td>\n",
       "      <td>9230.875000</td>\n",
       "      <td>640</td>\n",
       "    </tr>\n",
       "  </tbody>\n",
       "</table>\n",
       "</div>"
      ],
      "text/plain": [
       "       revenue                   \n",
       "           sum         mean count\n",
       "group                            \n",
       "A      4084803  7333.578097   557\n",
       "B      5907760  9230.875000   640"
      ]
     },
     "execution_count": 5,
     "metadata": {},
     "output_type": "execute_result"
    }
   ],
   "source": [
    "orders.groupby('group').agg({'revenue':['sum', 'mean', 'count']})"
   ]
  },
  {
   "cell_type": "code",
   "execution_count": 6,
   "id": "52aea74b",
   "metadata": {},
   "outputs": [
    {
     "name": "stdout",
     "output_type": "stream",
     "text": [
      "Общая сумма заказов в обеих группах составила 9992563 рубля\n"
     ]
    }
   ],
   "source": [
    "print('Общая сумма заказов в обеих группах составила', orders.revenue.sum(), 'рубля')"
   ]
  },
  {
   "cell_type": "code",
   "execution_count": 7,
   "id": "c1ac8504",
   "metadata": {},
   "outputs": [
    {
     "name": "stdout",
     "output_type": "stream",
     "text": [
      "Количество дубликатов: 0\n"
     ]
    }
   ],
   "source": [
    "print('Количество дубликатов:', orders.duplicated().sum())"
   ]
  },
  {
   "cell_type": "code",
   "execution_count": 8,
   "id": "922bba97",
   "metadata": {},
   "outputs": [
    {
     "name": "stdout",
     "output_type": "stream",
     "text": [
      "Количество пропусков:\n"
     ]
    },
    {
     "data": {
      "text/plain": [
       "transactionId    0\n",
       "visitorId        0\n",
       "date             0\n",
       "revenue          0\n",
       "group            0\n",
       "dtype: int64"
      ]
     },
     "execution_count": 8,
     "metadata": {},
     "output_type": "execute_result"
    }
   ],
   "source": [
    "print('Количество пропусков:')\n",
    "orders.isna().sum()"
   ]
  },
  {
   "cell_type": "markdown",
   "id": "b7e89c08",
   "metadata": {},
   "source": [
    "***\n",
    "- Всего 1197 заказов на общую сумму 9992563 рублей.\n",
    "- На группу А пришлось 557 заказов на сумму 4084803 рубля, средняя сумма заказа 7333 рубля.\n",
    "- На группу В пришлось 640 заказов на сумму 5907760 рубля, средняя сумма заказа 9230 рублей\n",
    "***"
   ]
  },
  {
   "cell_type": "markdown",
   "id": "c27c502b",
   "metadata": {},
   "source": [
    "## Посетители"
   ]
  },
  {
   "cell_type": "code",
   "execution_count": 9,
   "id": "f4daa2c5",
   "metadata": {},
   "outputs": [
    {
     "data": {
      "text/html": [
       "<div>\n",
       "<style scoped>\n",
       "    .dataframe tbody tr th:only-of-type {\n",
       "        vertical-align: middle;\n",
       "    }\n",
       "\n",
       "    .dataframe tbody tr th {\n",
       "        vertical-align: top;\n",
       "    }\n",
       "\n",
       "    .dataframe thead th {\n",
       "        text-align: right;\n",
       "    }\n",
       "</style>\n",
       "<table border=\"1\" class=\"dataframe\">\n",
       "  <thead>\n",
       "    <tr style=\"text-align: right;\">\n",
       "      <th></th>\n",
       "      <th>date</th>\n",
       "      <th>group</th>\n",
       "      <th>visitors</th>\n",
       "    </tr>\n",
       "  </thead>\n",
       "  <tbody>\n",
       "    <tr>\n",
       "      <th>0</th>\n",
       "      <td>2019-08-01</td>\n",
       "      <td>A</td>\n",
       "      <td>719</td>\n",
       "    </tr>\n",
       "    <tr>\n",
       "      <th>1</th>\n",
       "      <td>2019-08-02</td>\n",
       "      <td>A</td>\n",
       "      <td>619</td>\n",
       "    </tr>\n",
       "    <tr>\n",
       "      <th>2</th>\n",
       "      <td>2019-08-03</td>\n",
       "      <td>A</td>\n",
       "      <td>507</td>\n",
       "    </tr>\n",
       "    <tr>\n",
       "      <th>3</th>\n",
       "      <td>2019-08-04</td>\n",
       "      <td>A</td>\n",
       "      <td>717</td>\n",
       "    </tr>\n",
       "    <tr>\n",
       "      <th>4</th>\n",
       "      <td>2019-08-05</td>\n",
       "      <td>A</td>\n",
       "      <td>756</td>\n",
       "    </tr>\n",
       "    <tr>\n",
       "      <th>...</th>\n",
       "      <td>...</td>\n",
       "      <td>...</td>\n",
       "      <td>...</td>\n",
       "    </tr>\n",
       "    <tr>\n",
       "      <th>57</th>\n",
       "      <td>2019-08-27</td>\n",
       "      <td>B</td>\n",
       "      <td>720</td>\n",
       "    </tr>\n",
       "    <tr>\n",
       "      <th>58</th>\n",
       "      <td>2019-08-28</td>\n",
       "      <td>B</td>\n",
       "      <td>654</td>\n",
       "    </tr>\n",
       "    <tr>\n",
       "      <th>59</th>\n",
       "      <td>2019-08-29</td>\n",
       "      <td>B</td>\n",
       "      <td>531</td>\n",
       "    </tr>\n",
       "    <tr>\n",
       "      <th>60</th>\n",
       "      <td>2019-08-30</td>\n",
       "      <td>B</td>\n",
       "      <td>490</td>\n",
       "    </tr>\n",
       "    <tr>\n",
       "      <th>61</th>\n",
       "      <td>2019-08-31</td>\n",
       "      <td>B</td>\n",
       "      <td>718</td>\n",
       "    </tr>\n",
       "  </tbody>\n",
       "</table>\n",
       "<p>62 rows × 3 columns</p>\n",
       "</div>"
      ],
      "text/plain": [
       "         date group  visitors\n",
       "0  2019-08-01     A       719\n",
       "1  2019-08-02     A       619\n",
       "2  2019-08-03     A       507\n",
       "3  2019-08-04     A       717\n",
       "4  2019-08-05     A       756\n",
       "..        ...   ...       ...\n",
       "57 2019-08-27     B       720\n",
       "58 2019-08-28     B       654\n",
       "59 2019-08-29     B       531\n",
       "60 2019-08-30     B       490\n",
       "61 2019-08-31     B       718\n",
       "\n",
       "[62 rows x 3 columns]"
      ]
     },
     "execution_count": 9,
     "metadata": {},
     "output_type": "execute_result"
    }
   ],
   "source": [
    "visitors.date = visitors.date.map(lambda x:dt.datetime.strptime(x, '%Y-%m-%d'))\n",
    "visitors"
   ]
  },
  {
   "cell_type": "code",
   "execution_count": 10,
   "id": "4f12bf8f",
   "metadata": {},
   "outputs": [
    {
     "data": {
      "text/html": [
       "<div>\n",
       "<style scoped>\n",
       "    .dataframe tbody tr th:only-of-type {\n",
       "        vertical-align: middle;\n",
       "    }\n",
       "\n",
       "    .dataframe tbody tr th {\n",
       "        vertical-align: top;\n",
       "    }\n",
       "\n",
       "    .dataframe thead th {\n",
       "        text-align: right;\n",
       "    }\n",
       "</style>\n",
       "<table border=\"1\" class=\"dataframe\">\n",
       "  <thead>\n",
       "    <tr style=\"text-align: right;\">\n",
       "      <th></th>\n",
       "      <th>visitors</th>\n",
       "    </tr>\n",
       "    <tr>\n",
       "      <th>group</th>\n",
       "      <th></th>\n",
       "    </tr>\n",
       "  </thead>\n",
       "  <tbody>\n",
       "    <tr>\n",
       "      <th>A</th>\n",
       "      <td>18736</td>\n",
       "    </tr>\n",
       "    <tr>\n",
       "      <th>B</th>\n",
       "      <td>18916</td>\n",
       "    </tr>\n",
       "  </tbody>\n",
       "</table>\n",
       "</div>"
      ],
      "text/plain": [
       "       visitors\n",
       "group          \n",
       "A         18736\n",
       "B         18916"
      ]
     },
     "execution_count": 10,
     "metadata": {},
     "output_type": "execute_result"
    }
   ],
   "source": [
    "visitors.groupby('group').agg({'visitors':'sum'})"
   ]
  },
  {
   "cell_type": "code",
   "execution_count": 11,
   "id": "1d698eb9",
   "metadata": {},
   "outputs": [
    {
     "name": "stdout",
     "output_type": "stream",
     "text": [
      "Количество дубликатов: 0\n"
     ]
    }
   ],
   "source": [
    "print('Количество дубликатов:', visitors.duplicated().sum())"
   ]
  },
  {
   "cell_type": "code",
   "execution_count": 12,
   "id": "b0a85b7d",
   "metadata": {},
   "outputs": [
    {
     "name": "stdout",
     "output_type": "stream",
     "text": [
      "Количество пропусков:\n"
     ]
    },
    {
     "data": {
      "text/plain": [
       "date        0\n",
       "group       0\n",
       "visitors    0\n",
       "dtype: int64"
      ]
     },
     "execution_count": 12,
     "metadata": {},
     "output_type": "execute_result"
    }
   ],
   "source": [
    "print('Количество пропусков:')\n",
    "visitors.isna().sum()"
   ]
  },
  {
   "cell_type": "markdown",
   "id": "14aceb89",
   "metadata": {},
   "source": [
    "***\n",
    "***В группу А вошло 18763 пользователя, в группу В - 18916 пользователей***\n",
    "***"
   ]
  },
  {
   "cell_type": "markdown",
   "id": "0a6c0684",
   "metadata": {},
   "source": [
    "# Приоритизация гипотез"
   ]
  },
  {
   "cell_type": "markdown",
   "id": "2dd0546f",
   "metadata": {},
   "source": [
    "***\n",
    "**Задача:**\n",
    "\n",
    "- Примените фреймворк ICE для приоритизации гипотез. Отсортируйте их по убыванию приоритета.\n",
    "- Примените фреймворк RICE для приоритизации гипотез. Отсортируйте их по убыванию приоритета.\n",
    "- Укажите, как изменилась приоритизация гипотез при применении RICE вместо ICE. Объясните, почему так произошло.\n",
    "***"
   ]
  },
  {
   "cell_type": "markdown",
   "id": "eae2cb34",
   "metadata": {},
   "source": [
    "## ICE"
   ]
  },
  {
   "cell_type": "code",
   "execution_count": 13,
   "id": "f57fb81d",
   "metadata": {},
   "outputs": [
    {
     "data": {
      "text/html": [
       "<div>\n",
       "<style scoped>\n",
       "    .dataframe tbody tr th:only-of-type {\n",
       "        vertical-align: middle;\n",
       "    }\n",
       "\n",
       "    .dataframe tbody tr th {\n",
       "        vertical-align: top;\n",
       "    }\n",
       "\n",
       "    .dataframe thead th {\n",
       "        text-align: right;\n",
       "    }\n",
       "</style>\n",
       "<table border=\"1\" class=\"dataframe\">\n",
       "  <thead>\n",
       "    <tr style=\"text-align: right;\">\n",
       "      <th></th>\n",
       "      <th>Hypothesis</th>\n",
       "      <th>Reach</th>\n",
       "      <th>Impact</th>\n",
       "      <th>Confidence</th>\n",
       "      <th>Efforts</th>\n",
       "      <th>ICE</th>\n",
       "    </tr>\n",
       "  </thead>\n",
       "  <tbody>\n",
       "    <tr>\n",
       "      <th>8</th>\n",
       "      <td>Запустить акцию, дающую скидку на товар в день рождения</td>\n",
       "      <td>1</td>\n",
       "      <td>9</td>\n",
       "      <td>9</td>\n",
       "      <td>5</td>\n",
       "      <td>16.20</td>\n",
       "    </tr>\n",
       "    <tr>\n",
       "      <th>0</th>\n",
       "      <td>Добавить два новых канала привлечения трафика, что позволит привлекать на 30% больше пользователей</td>\n",
       "      <td>3</td>\n",
       "      <td>10</td>\n",
       "      <td>8</td>\n",
       "      <td>6</td>\n",
       "      <td>13.33</td>\n",
       "    </tr>\n",
       "    <tr>\n",
       "      <th>7</th>\n",
       "      <td>Добавить форму подписки на все основные страницы, чтобы собрать базу клиентов для email-рассылок</td>\n",
       "      <td>10</td>\n",
       "      <td>7</td>\n",
       "      <td>8</td>\n",
       "      <td>5</td>\n",
       "      <td>11.20</td>\n",
       "    </tr>\n",
       "    <tr>\n",
       "      <th>6</th>\n",
       "      <td>Показать на главной странице баннеры с актуальными акциями и распродажами, чтобы увеличить конверсию</td>\n",
       "      <td>5</td>\n",
       "      <td>3</td>\n",
       "      <td>8</td>\n",
       "      <td>3</td>\n",
       "      <td>8.00</td>\n",
       "    </tr>\n",
       "    <tr>\n",
       "      <th>2</th>\n",
       "      <td>Добавить блоки рекомендаций товаров на сайт интернет магазина, чтобы повысить конверсию и средний чек заказа</td>\n",
       "      <td>8</td>\n",
       "      <td>3</td>\n",
       "      <td>7</td>\n",
       "      <td>3</td>\n",
       "      <td>7.00</td>\n",
       "    </tr>\n",
       "    <tr>\n",
       "      <th>1</th>\n",
       "      <td>Запустить собственную службу доставки, что сократит срок доставки заказов</td>\n",
       "      <td>2</td>\n",
       "      <td>5</td>\n",
       "      <td>4</td>\n",
       "      <td>10</td>\n",
       "      <td>2.00</td>\n",
       "    </tr>\n",
       "    <tr>\n",
       "      <th>5</th>\n",
       "      <td>Добавить страницу отзывов клиентов о магазине, что позволит увеличить количество заказов</td>\n",
       "      <td>3</td>\n",
       "      <td>2</td>\n",
       "      <td>2</td>\n",
       "      <td>3</td>\n",
       "      <td>1.33</td>\n",
       "    </tr>\n",
       "    <tr>\n",
       "      <th>3</th>\n",
       "      <td>Изменить структура категорий, что увеличит конверсию, т.к. пользователи быстрее найдут нужный товар</td>\n",
       "      <td>8</td>\n",
       "      <td>3</td>\n",
       "      <td>3</td>\n",
       "      <td>8</td>\n",
       "      <td>1.12</td>\n",
       "    </tr>\n",
       "    <tr>\n",
       "      <th>4</th>\n",
       "      <td>Изменить цвет фона главной страницы, чтобы увеличить вовлеченность пользователей</td>\n",
       "      <td>3</td>\n",
       "      <td>1</td>\n",
       "      <td>1</td>\n",
       "      <td>1</td>\n",
       "      <td>1.00</td>\n",
       "    </tr>\n",
       "  </tbody>\n",
       "</table>\n",
       "</div>"
      ],
      "text/plain": [
       "                                                                                                     Hypothesis  \\\n",
       "8                                                       Запустить акцию, дающую скидку на товар в день рождения   \n",
       "0            Добавить два новых канала привлечения трафика, что позволит привлекать на 30% больше пользователей   \n",
       "7              Добавить форму подписки на все основные страницы, чтобы собрать базу клиентов для email-рассылок   \n",
       "6          Показать на главной странице баннеры с актуальными акциями и распродажами, чтобы увеличить конверсию   \n",
       "2  Добавить блоки рекомендаций товаров на сайт интернет магазина, чтобы повысить конверсию и средний чек заказа   \n",
       "1                                     Запустить собственную службу доставки, что сократит срок доставки заказов   \n",
       "5                      Добавить страницу отзывов клиентов о магазине, что позволит увеличить количество заказов   \n",
       "3           Изменить структура категорий, что увеличит конверсию, т.к. пользователи быстрее найдут нужный товар   \n",
       "4                              Изменить цвет фона главной страницы, чтобы увеличить вовлеченность пользователей   \n",
       "\n",
       "   Reach  Impact  Confidence  Efforts    ICE  \n",
       "8      1       9           9        5  16.20  \n",
       "0      3      10           8        6  13.33  \n",
       "7     10       7           8        5  11.20  \n",
       "6      5       3           8        3   8.00  \n",
       "2      8       3           7        3   7.00  \n",
       "1      2       5           4       10   2.00  \n",
       "5      3       2           2        3   1.33  \n",
       "3      8       3           3        8   1.12  \n",
       "4      3       1           1        1   1.00  "
      ]
     },
     "execution_count": 13,
     "metadata": {},
     "output_type": "execute_result"
    }
   ],
   "source": [
    "hypothesis['ICE'] = round((hypothesis.Impact * hypothesis.Confidence) / hypothesis.Efforts, 2)\n",
    "hypothesis.sort_values(by='ICE', ascending=False)"
   ]
  },
  {
   "cell_type": "markdown",
   "id": "fb1de568",
   "metadata": {},
   "source": [
    "## RICE"
   ]
  },
  {
   "cell_type": "code",
   "execution_count": 14,
   "id": "972a1372",
   "metadata": {},
   "outputs": [
    {
     "data": {
      "text/html": [
       "<div>\n",
       "<style scoped>\n",
       "    .dataframe tbody tr th:only-of-type {\n",
       "        vertical-align: middle;\n",
       "    }\n",
       "\n",
       "    .dataframe tbody tr th {\n",
       "        vertical-align: top;\n",
       "    }\n",
       "\n",
       "    .dataframe thead th {\n",
       "        text-align: right;\n",
       "    }\n",
       "</style>\n",
       "<table border=\"1\" class=\"dataframe\">\n",
       "  <thead>\n",
       "    <tr style=\"text-align: right;\">\n",
       "      <th></th>\n",
       "      <th>Hypothesis</th>\n",
       "      <th>Reach</th>\n",
       "      <th>Impact</th>\n",
       "      <th>Confidence</th>\n",
       "      <th>Efforts</th>\n",
       "      <th>ICE</th>\n",
       "      <th>RICE</th>\n",
       "    </tr>\n",
       "  </thead>\n",
       "  <tbody>\n",
       "    <tr>\n",
       "      <th>7</th>\n",
       "      <td>Добавить форму подписки на все основные страницы, чтобы собрать базу клиентов для email-рассылок</td>\n",
       "      <td>10</td>\n",
       "      <td>7</td>\n",
       "      <td>8</td>\n",
       "      <td>5</td>\n",
       "      <td>11.20</td>\n",
       "      <td>112.0</td>\n",
       "    </tr>\n",
       "    <tr>\n",
       "      <th>2</th>\n",
       "      <td>Добавить блоки рекомендаций товаров на сайт интернет магазина, чтобы повысить конверсию и средний чек заказа</td>\n",
       "      <td>8</td>\n",
       "      <td>3</td>\n",
       "      <td>7</td>\n",
       "      <td>3</td>\n",
       "      <td>7.00</td>\n",
       "      <td>56.0</td>\n",
       "    </tr>\n",
       "    <tr>\n",
       "      <th>0</th>\n",
       "      <td>Добавить два новых канала привлечения трафика, что позволит привлекать на 30% больше пользователей</td>\n",
       "      <td>3</td>\n",
       "      <td>10</td>\n",
       "      <td>8</td>\n",
       "      <td>6</td>\n",
       "      <td>13.33</td>\n",
       "      <td>40.0</td>\n",
       "    </tr>\n",
       "    <tr>\n",
       "      <th>6</th>\n",
       "      <td>Показать на главной странице баннеры с актуальными акциями и распродажами, чтобы увеличить конверсию</td>\n",
       "      <td>5</td>\n",
       "      <td>3</td>\n",
       "      <td>8</td>\n",
       "      <td>3</td>\n",
       "      <td>8.00</td>\n",
       "      <td>40.0</td>\n",
       "    </tr>\n",
       "    <tr>\n",
       "      <th>8</th>\n",
       "      <td>Запустить акцию, дающую скидку на товар в день рождения</td>\n",
       "      <td>1</td>\n",
       "      <td>9</td>\n",
       "      <td>9</td>\n",
       "      <td>5</td>\n",
       "      <td>16.20</td>\n",
       "      <td>16.2</td>\n",
       "    </tr>\n",
       "    <tr>\n",
       "      <th>3</th>\n",
       "      <td>Изменить структура категорий, что увеличит конверсию, т.к. пользователи быстрее найдут нужный товар</td>\n",
       "      <td>8</td>\n",
       "      <td>3</td>\n",
       "      <td>3</td>\n",
       "      <td>8</td>\n",
       "      <td>1.12</td>\n",
       "      <td>9.0</td>\n",
       "    </tr>\n",
       "    <tr>\n",
       "      <th>1</th>\n",
       "      <td>Запустить собственную службу доставки, что сократит срок доставки заказов</td>\n",
       "      <td>2</td>\n",
       "      <td>5</td>\n",
       "      <td>4</td>\n",
       "      <td>10</td>\n",
       "      <td>2.00</td>\n",
       "      <td>4.0</td>\n",
       "    </tr>\n",
       "    <tr>\n",
       "      <th>5</th>\n",
       "      <td>Добавить страницу отзывов клиентов о магазине, что позволит увеличить количество заказов</td>\n",
       "      <td>3</td>\n",
       "      <td>2</td>\n",
       "      <td>2</td>\n",
       "      <td>3</td>\n",
       "      <td>1.33</td>\n",
       "      <td>4.0</td>\n",
       "    </tr>\n",
       "    <tr>\n",
       "      <th>4</th>\n",
       "      <td>Изменить цвет фона главной страницы, чтобы увеличить вовлеченность пользователей</td>\n",
       "      <td>3</td>\n",
       "      <td>1</td>\n",
       "      <td>1</td>\n",
       "      <td>1</td>\n",
       "      <td>1.00</td>\n",
       "      <td>3.0</td>\n",
       "    </tr>\n",
       "  </tbody>\n",
       "</table>\n",
       "</div>"
      ],
      "text/plain": [
       "                                                                                                     Hypothesis  \\\n",
       "7              Добавить форму подписки на все основные страницы, чтобы собрать базу клиентов для email-рассылок   \n",
       "2  Добавить блоки рекомендаций товаров на сайт интернет магазина, чтобы повысить конверсию и средний чек заказа   \n",
       "0            Добавить два новых канала привлечения трафика, что позволит привлекать на 30% больше пользователей   \n",
       "6          Показать на главной странице баннеры с актуальными акциями и распродажами, чтобы увеличить конверсию   \n",
       "8                                                       Запустить акцию, дающую скидку на товар в день рождения   \n",
       "3           Изменить структура категорий, что увеличит конверсию, т.к. пользователи быстрее найдут нужный товар   \n",
       "1                                     Запустить собственную службу доставки, что сократит срок доставки заказов   \n",
       "5                      Добавить страницу отзывов клиентов о магазине, что позволит увеличить количество заказов   \n",
       "4                              Изменить цвет фона главной страницы, чтобы увеличить вовлеченность пользователей   \n",
       "\n",
       "   Reach  Impact  Confidence  Efforts    ICE   RICE  \n",
       "7     10       7           8        5  11.20  112.0  \n",
       "2      8       3           7        3   7.00   56.0  \n",
       "0      3      10           8        6  13.33   40.0  \n",
       "6      5       3           8        3   8.00   40.0  \n",
       "8      1       9           9        5  16.20   16.2  \n",
       "3      8       3           3        8   1.12    9.0  \n",
       "1      2       5           4       10   2.00    4.0  \n",
       "5      3       2           2        3   1.33    4.0  \n",
       "4      3       1           1        1   1.00    3.0  "
      ]
     },
     "execution_count": 14,
     "metadata": {},
     "output_type": "execute_result"
    }
   ],
   "source": [
    "hypothesis['RICE'] = (hypothesis.Reach * hypothesis.Impact * hypothesis.Confidence) / hypothesis.Efforts\n",
    "hypothesis.sort_values(by='RICE', ascending=False)"
   ]
  },
  {
   "cell_type": "markdown",
   "id": "55591894",
   "metadata": {},
   "source": [
    "***\n",
    "**Разница между методами приоритизации гипотез ICE и RICE заключается в использовании параметра Reach в расчете. Это параметр оценки количества пользователей, которых затронет вносимое изменение. RICE будет в Reach раз больше, чем ICE**\n",
    "\n",
    "**При сортировке по параметру RICE расстановка приоритетов меняется:**\n",
    "- гипотеза №2 '**Добавить блоки рекомендаций товаров на сайт интернет магазина, чтобы повысить конверсию и средний чек заказа**' поднимается из середины списка на второе место. Причина в низкой стоимости ее проверки (Efforts = 3) и в том, что добавление блоков рекомендаций коснется многих, если не всех пользователей интернет-магазина\n",
    "- гипотеза №8 '**Запустить акцию, дающую скидку на товар в день рождения**' характеризуется низким Reach - лишь небольшая доля пользователей в конкретный день являются именинниками\n",
    "\n",
    "**В конечном итоге наиболее приоритетной по RICE является гипотеза №7, на ней идут 2, 0 и 6**\n",
    "***"
   ]
  },
  {
   "cell_type": "markdown",
   "id": "8621378b",
   "metadata": {},
   "source": [
    "# Анализ A/B-теста"
   ]
  },
  {
   "cell_type": "code",
   "execution_count": 15,
   "id": "2a64de7b",
   "metadata": {},
   "outputs": [],
   "source": [
    "unique_users_A = orders.query('group == \"A\"').visitorId.unique()\n",
    "unique_users_B = orders.query('group == \"B\"').visitorId.unique()\n",
    "intersection_of_groups = np.intersect1d(unique_users_A, unique_users_B)"
   ]
  },
  {
   "cell_type": "code",
   "execution_count": 16,
   "id": "9c4c6ecd",
   "metadata": {},
   "outputs": [
    {
     "data": {
      "text/plain": [
       "58"
      ]
     },
     "execution_count": 16,
     "metadata": {},
     "output_type": "execute_result"
    }
   ],
   "source": [
    "len(np.intersect1d(unique_users_A, unique_users_B))"
   ]
  },
  {
   "cell_type": "markdown",
   "id": "13093506",
   "metadata": {},
   "source": [
    "## Постройте график кумулятивной выручки по группам. Сделайте выводы и предположения."
   ]
  },
  {
   "cell_type": "code",
   "execution_count": 17,
   "id": "3851c2f3",
   "metadata": {},
   "outputs": [],
   "source": [
    "datesgroups = orders[['date', 'group']].drop_duplicates().reset_index(drop=True)\n",
    "#создаем уникальные пары дата-группа"
   ]
  },
  {
   "cell_type": "code",
   "execution_count": 18,
   "id": "c58de6f6",
   "metadata": {},
   "outputs": [],
   "source": [
    "cumulative_orders = datesgroups.apply(lambda x: orders[\n",
    "    np.logical_and(orders.date <= x.date, orders.group == x.group)] \\\n",
    "    .agg(\n",
    "    {'date':'max',\n",
    "     'group':'max',\n",
    "     'revenue':'sum',\n",
    "     'visitorId':'nunique',\n",
    "     'transactionId':'nunique'})\n",
    ",axis=1,).sort_values(by=['date', 'group']) #датафрейм с кумулятивной выручкой, количеством уникальных покупателей \n",
    "                                            #и заказов\n",
    "\n",
    "cumulative_orders.columns = ['date', 'group', 'revenue', 'buyers', 'orders']\n",
    "\n",
    "cumulative_orders_A = cumulative_orders.query('group==\"A\"')\n",
    "cumulative_orders_B = cumulative_orders.query('group==\"B\"')"
   ]
  },
  {
   "cell_type": "code",
   "execution_count": 1,
   "id": "e6494df2",
   "metadata": {},
   "outputs": [],
   "source": [
    "import plotly.express as px"
   ]
  },
  {
   "cell_type": "code",
   "execution_count": 19,
   "id": "e7762fe0",
   "metadata": {},
   "outputs": [
    {
     "data": {
      "image/png": "[encoded data removed]",
      "text/plain": [
       "<Figure size 1080x576 with 1 Axes>"
      ]
     },
     "metadata": {
      "needs_background": "light"
     },
     "output_type": "display_data"
    }
   ],
   "source": [
    "plt.figure(figsize=(15,8))\n",
    "plt.plot(cumulative_orders_A.date, cumulative_orders_A.revenue, label='A', linestyle='--', marker='o')\n",
    "plt.plot(cumulative_orders_B.date, cumulative_orders_B.revenue, label='B', marker='o')\n",
    "plt.legend(fontsize=16)\n",
    "plt.grid(visible=True)\n",
    "plt.ylabel('Млн. рублей',fontsize=16)\n",
    "plt.title('Кумулятивная выручка для групп А и В')\n",
    "plt.show()"
   ]
  },
  {
   "cell_type": "markdown",
   "id": "02ab23d5",
   "metadata": {},
   "source": [
    "***\n",
    "**На графике кумулятивной выручки группа В опережает группу А практически на всем протяжении месяца, начиная с 6 августа. 13 августа линии на графике сближаются - в группе А был аномально большой заказ на сумму 92550 рублей - однако после разрыв снова увеличивается. Резкий рост кумулятивной выручки в группе В связан с еще одним аномально большим заказом на 1294500 рублей**\n",
    "***"
   ]
  },
  {
   "cell_type": "markdown",
   "id": "991ae966",
   "metadata": {},
   "source": [
    "## Постройте график кумулятивного среднего чека по группам. Сделайте выводы и предположения."
   ]
  },
  {
   "cell_type": "code",
   "execution_count": 20,
   "id": "2e95d951",
   "metadata": {},
   "outputs": [
    {
     "data": {
      "image/png": "[encoded data removed]",
      "text/plain": [
       "<Figure size 1080x576 with 1 Axes>"
      ]
     },
     "metadata": {
      "needs_background": "light"
     },
     "output_type": "display_data"
    }
   ],
   "source": [
    "plt.figure(figsize=(15,8))\n",
    "plt.plot(cumulative_orders_A.date, cumulative_orders_A.revenue/cumulative_orders_A.buyers, label='A', \\\n",
    "        linestyle='--', marker='o')\n",
    "plt.plot(cumulative_orders_B.date, cumulative_orders_B.revenue/cumulative_orders_B.buyers, label='B', marker='o')\n",
    "plt.legend(loc=2, fontsize=16)\n",
    "plt.ylabel('Сумма, руб.', fontsize=16)\n",
    "plt.title('Кумулятивный средний чек для групп А и В')\n",
    "plt.grid(visible=True)\n",
    "plt.show()"
   ]
  },
  {
   "cell_type": "code",
   "execution_count": 21,
   "id": "8cd3ba74",
   "metadata": {},
   "outputs": [
    {
     "data": {
      "image/png": "[encoded data removed]",
      "text/plain": [
       "<Figure size 1080x576 with 1 Axes>"
      ]
     },
     "metadata": {
      "needs_background": "light"
     },
     "output_type": "display_data"
    }
   ],
   "source": [
    "mean_receipt_A = orders.query('group==\"A\"').groupby('date', as_index=False).agg({'revenue':'sum', 'transactionId':'count'})\n",
    "mean_receipt_A['mean_receipt'] = mean_receipt_A.revenue / mean_receipt_A.transactionId\n",
    "\n",
    "mean_receipt_B = orders.query('group==\"B\"').groupby('date', as_index=False).agg({'revenue':'sum', 'transactionId':'count'})\n",
    "mean_receipt_B['mean_receipt'] = mean_receipt_B.revenue / mean_receipt_B.transactionId\n",
    "\n",
    "plt.figure(figsize=(15,8))\n",
    "plt.plot(mean_receipt_A.date, mean_receipt_A.mean_receipt, label='A', linestyle='--', marker='o')\n",
    "plt.plot(mean_receipt_B.date, mean_receipt_B.mean_receipt, label='B', marker='o')\n",
    "plt.legend(fontsize=16)\n",
    "plt.grid(visible=True)\n",
    "plt.title('Средний чек для обеих групп в разные дни')\n",
    "plt.show()"
   ]
  },
  {
   "cell_type": "markdown",
   "id": "04944f8f",
   "metadata": {},
   "source": [
    "***\n",
    "**Изменения на графике кумулятивного среднего чека напоминают предыдущий график, с резким ростом для группы А - 13 августа, а для группы В - 19 августа.**\n",
    "\n",
    "**Аномально большие заказы дают выбросы и на графике среднего чека без накопления, но в остальные дни средний чек обеих групп различается незначительно, перевес то в одну, то в другую сторону. Есть ли статистически значимые различия между двумя группами мы проверим позднее**\n",
    "***"
   ]
  },
  {
   "cell_type": "markdown",
   "id": "0809a07d",
   "metadata": {},
   "source": [
    "## Постройте график относительного изменения кумулятивного среднего чека группы B к группе A. Сделайте выводы и предположения."
   ]
  },
  {
   "cell_type": "code",
   "execution_count": 22,
   "id": "a6e4333c",
   "metadata": {},
   "outputs": [],
   "source": [
    "merged_cumulative_orders = cumulative_orders_A.merge \\\n",
    "(cumulative_orders_B, left_on='date', right_on='date', suffixes=[\"A\", 'B'])"
   ]
  },
  {
   "cell_type": "code",
   "execution_count": 23,
   "id": "1abc22b7",
   "metadata": {},
   "outputs": [
    {
     "data": {
      "image/png": "[encoded data removed]",
      "text/plain": [
       "<Figure size 1080x576 with 1 Axes>"
      ]
     },
     "metadata": {
      "needs_background": "light"
     },
     "output_type": "display_data"
    }
   ],
   "source": [
    "plt.figure(figsize=(15,8))\n",
    "plt.plot(merged_cumulative_orders.date, (merged_cumulative_orders.revenueB / merged_cumulative_orders.buyersB)/\n",
    "        (merged_cumulative_orders.revenueA/merged_cumulative_orders.buyersA)-1, marker='o', linestyle='-', color='purple')\n",
    "plt.axhline(y=0, linestyle='--', color='black')\n",
    "plt.axhline(y=0.2, linestyle='--', color='green')\n",
    "plt.title('Относительное изменения кумулятивного среднего чека группы В к А')\n",
    "plt.grid(visible=True)\n",
    "plt.show()"
   ]
  },
  {
   "cell_type": "markdown",
   "id": "56126581",
   "metadata": {},
   "source": [
    "***\n",
    "**Кроме первых двух дней месяца, а также периода с 11 по 15 число, кумуливный средний чек группы В превышает таковой для группы А. Разница достигает 30 и даже 45% в дни выбросов, однако затем снова снижается. Можно предположить, что истинная разница колеблется в коридоре от 10 до 20% - однако мы пока не учли выбросы**\n",
    "***"
   ]
  },
  {
   "cell_type": "markdown",
   "id": "add4bcb7",
   "metadata": {},
   "source": [
    "## Постройте график кумулятивной конверсии по группам. Сделайте выводы и предположения."
   ]
  },
  {
   "cell_type": "code",
   "execution_count": 24,
   "id": "4147d6df",
   "metadata": {},
   "outputs": [],
   "source": [
    "cumulative_visitors = datesgroups.apply(lambda x:\n",
    "visitors[np.logical_and(visitors.date <= x.date, visitors.group == x.group)]\\\n",
    ".agg({'date':'max', 'group':'max', 'visitors':'sum'}), axis=1) \\\n",
    ".sort_values(by=['date', 'group']) #датафрейм с количеством посетителей с накоплениемм для обеих групп"
   ]
  },
  {
   "cell_type": "code",
   "execution_count": 25,
   "id": "d11ff439",
   "metadata": {},
   "outputs": [],
   "source": [
    "cumulative_data = cumulative_orders.merge(cumulative_visitors, \\\n",
    "left_on=['date', 'group'], right_on = ['date', 'group'])\n",
    "\n",
    "cumulative_data['conversion'] = cumulative_data.buyers / cumulative_data.visitors\n",
    "# таблица с накоплением - выручка, покупатели, заказы, посетители, конверсия"
   ]
  },
  {
   "cell_type": "code",
   "execution_count": 26,
   "id": "d6cb903a",
   "metadata": {},
   "outputs": [
    {
     "data": {
      "image/png": "[encoded data removed]",
      "text/plain": [
       "<Figure size 1440x720 with 2 Axes>"
      ]
     },
     "metadata": {
      "needs_background": "light"
     },
     "output_type": "display_data"
    }
   ],
   "source": [
    "cumulative_data_A = cumulative_data.query('group == \"A\"')\n",
    "cumulative_data_B = cumulative_data.query('group==\"B\"')\n",
    "\n",
    "plt.figure(figsize=(20, 10))\n",
    "plt.subplot(2,1,1)\n",
    "plt.plot(cumulative_data_A.date, cumulative_data_A.conversion, label='A', linestyle='--', marker='o')\n",
    "plt.plot(cumulative_data_B.date, cumulative_data_B.conversion, label='B', marker='o')\n",
    "plt.legend(fontsize=16)\n",
    "plt.grid(visible=True)\n",
    "plt.title('Кумулятивная конверсия по группам')\n",
    "\n",
    "plt.subplot(2,1,2)\n",
    "plt.plot(cumulative_data_A.date, cumulative_data_A.conversion, label='A', linestyle='--', marker='o')\n",
    "plt.plot(cumulative_data_B.date, cumulative_data_B.conversion, label='B', marker='o')\n",
    "plt.legend(fontsize=16)\n",
    "plt.grid(visible=True)\n",
    "plt.ylim(0.01, 0.05)\n",
    "plt.show()"
   ]
  },
  {
   "cell_type": "markdown",
   "id": "9de9fb66",
   "metadata": {},
   "source": [
    "***\n",
    "**Кумулятивная конверсия для группы В превышает аналогичный показатель для группы А на протяжении всего рассматриваемого периода. К 25 августа показатели выходят на плато:**\n",
    "- группа А - 2.7 %\n",
    "- группа В - 3.1 %\n",
    "\n",
    "**Вряд ли мы увидим значимые изменения конверсии при дальнейшем проведении теста**\n",
    "***"
   ]
  },
  {
   "cell_type": "markdown",
   "id": "cc06b218",
   "metadata": {},
   "source": [
    "## Постройте график относительного изменения кумулятивной конверсии группы B к группе A. Сделайте выводы и предположения."
   ]
  },
  {
   "cell_type": "code",
   "execution_count": 27,
   "id": "10f2a8ed",
   "metadata": {},
   "outputs": [
    {
     "data": {
      "image/png": "[encoded data removed]",
      "text/plain": [
       "<Figure size 1080x576 with 1 Axes>"
      ]
     },
     "metadata": {
      "needs_background": "light"
     },
     "output_type": "display_data"
    }
   ],
   "source": [
    "merged_cumulative_conversion = cumulative_data_A[['date', 'conversion']]\\\n",
    ".merge(cumulative_data_B[['date', 'conversion']], left_on='date', right_on='date',\\\n",
    "suffixes=['A', 'B'])\n",
    "\n",
    "plt.figure(figsize=(15,8))\n",
    "plt.plot(merged_cumulative_conversion.date, merged_cumulative_conversion.conversionB/ \\\n",
    "merged_cumulative_conversion.conversionA - 1, marker='o', color='purple')\n",
    "plt.axhline(y=0, linestyle='--', color='black')\n",
    "plt.axhline(y=0.156, linestyle='--', color='green')\n",
    "plt.axhline(y=0.092, linestyle='--', color='green')\n",
    "plt.title('Относительное изменения кумулятивной конверсии В/А')\n",
    "plt.grid(visible=True)\n",
    "plt.axis([merged_cumulative_conversion.date.min(),\n",
    "          merged_cumulative_conversion.date.max(), -0.1, 0.3])\n",
    "plt.show()"
   ]
  },
  {
   "cell_type": "markdown",
   "id": "43bf877e",
   "metadata": {},
   "source": [
    "***\n",
    "**Этот график соотносится с предыдущим - относительная разница конверсии между группами к концу рассматриваемого периода стабилизируется вблизи отметки в 12,5%**\n",
    "***"
   ]
  },
  {
   "cell_type": "markdown",
   "id": "98568258",
   "metadata": {},
   "source": [
    "## Постройте точечный график количества заказов по пользователям. Сделайте выводы и предположения."
   ]
  },
  {
   "cell_type": "code",
   "execution_count": 28,
   "id": "efc95b45",
   "metadata": {},
   "outputs": [
    {
     "data": {
      "image/png": "[encoded data removed]",
      "text/plain": [
       "<Figure size 1080x576 with 1 Axes>"
      ]
     },
     "metadata": {
      "needs_background": "light"
     },
     "output_type": "display_data"
    }
   ],
   "source": [
    "orders_by_users = orders.groupby('visitorId', as_index=False)\\\n",
    ".agg({'transactionId':'nunique'})\n",
    "orders_by_users.columns = ['visitorId', 'orders']\n",
    "\n",
    "x_values=range(0, len(orders_by_users))\n",
    "\n",
    "plt.figure(figsize=(15,8))\n",
    "plt.scatter(x_values, orders_by_users.orders)\n",
    "plt.grid(visible=True)\n",
    "plt.ylabel('Количество заказов')\n",
    "plt.title('Диаграмма рассеяния количества заказов')\n",
    "plt.show()"
   ]
  },
  {
   "cell_type": "markdown",
   "id": "bb3c2d48",
   "metadata": {},
   "source": [
    "### Посчитайте 95-й и 99-й перцентили количества заказов на пользователя. Выберите границу для определения аномальных пользователей."
   ]
  },
  {
   "cell_type": "code",
   "execution_count": 29,
   "id": "f77be170",
   "metadata": {},
   "outputs": [
    {
     "name": "stdout",
     "output_type": "stream",
     "text": [
      "95-й персентиль, заказов: 2\n",
      "99-й персентиль, заказов: 4\n"
     ]
    }
   ],
   "source": [
    "print('95-й персентиль, заказов:', int(np.percentile(orders_by_users.orders, [95])))\n",
    "print('99-й персентиль, заказов:', int(np.percentile(orders_by_users.orders, [99])))"
   ]
  },
  {
   "cell_type": "markdown",
   "id": "a7c204f2",
   "metadata": {},
   "source": [
    "***\n",
    "**Подавляющее большинство пользователей оформили лишь 1 заказ, 99% сделали 4 и менее заказов**\n",
    "\n",
    "**Аномальными будем считать пользователей, совершивших более 4 заказов**\n",
    "***"
   ]
  },
  {
   "cell_type": "markdown",
   "id": "238bdc12",
   "metadata": {},
   "source": [
    "## Постройте точечный график стоимостей заказов. Сделайте выводы и предположения."
   ]
  },
  {
   "cell_type": "code",
   "execution_count": 30,
   "id": "03d71431",
   "metadata": {},
   "outputs": [
    {
     "data": {
      "image/png": "[encoded data removed]",
      "text/plain": [
       "<Figure size 1440x576 with 2 Axes>"
      ]
     },
     "metadata": {
      "needs_background": "light"
     },
     "output_type": "display_data"
    }
   ],
   "source": [
    "x_values = range(0, len(orders))\n",
    "\n",
    "plt.figure(figsize=(20,8))\n",
    "plt.subplot(1,2,1)\n",
    "plt.scatter(x_values, orders.revenue)\n",
    "plt.ylabel('Сумма заказа, млн. руб.')\n",
    "plt.grid(visible=True)\n",
    "plt.title('Диаграмма рассеяния стоимости заказов')\n",
    "\n",
    "plt.subplot(1,2,2)\n",
    "plt.scatter(x_values, orders.revenue)\n",
    "plt.title('Диаграмма рассеяния стоимости заказов')\n",
    "plt.axis([0, 1200, 0, 110000])\n",
    "plt.ylabel('Сумма заказа, руб.')\n",
    "plt.grid(visible=True)\n",
    "plt.show()\n"
   ]
  },
  {
   "cell_type": "markdown",
   "id": "10b5402f",
   "metadata": {},
   "source": [
    "### Посчитайте 95-й и 99-й перцентили стоимости заказов. Выберите границу для определения аномальных заказов.\n"
   ]
  },
  {
   "cell_type": "code",
   "execution_count": 31,
   "id": "0cf5e114",
   "metadata": {},
   "outputs": [
    {
     "name": "stdout",
     "output_type": "stream",
     "text": [
      "95-й персентиль, сумма: 28000\n",
      "99-й персентиль, сумма: 58233\n"
     ]
    }
   ],
   "source": [
    "print('95-й персентиль, сумма:', int(np.percentile(orders.revenue, [95])))\n",
    "print('99-й персентиль, сумма:', int(np.percentile(orders.revenue, [99])))"
   ]
  },
  {
   "cell_type": "markdown",
   "id": "d1200d49",
   "metadata": {},
   "source": [
    "***\n",
    "**Аномальными будем считать заказы на сумму, превышающую 58233 рубля**\n",
    "***"
   ]
  },
  {
   "cell_type": "markdown",
   "id": "0824af33",
   "metadata": {},
   "source": [
    "## Гипотезы\n",
    "***\n",
    "- Н0 - разницы в конверсии между группами нет\n",
    "- Н1 - конверсия в группах А и В отличается\n",
    "***\n",
    "- Н0 - разницы в сумме среднего чека между группами нет\n",
    "- Н1 - сумма среднего чека в группах А и В отличается"
   ]
  },
  {
   "cell_type": "markdown",
   "id": "ff94507d",
   "metadata": {},
   "source": [
    "## Посчитайте статистическую значимость различий в конверсии между группами по «сырым» данным. Сделайте выводы и предположения."
   ]
  },
  {
   "cell_type": "code",
   "execution_count": 32,
   "id": "c4a40916",
   "metadata": {},
   "outputs": [],
   "source": [
    "orders_by_users_A = orders.query('group==\"A\"') \\\n",
    ".groupby('visitorId', as_index=False).agg({'transactionId':'nunique'})\n",
    "orders_by_users_A.columns = ['visitorId', 'orders']\n",
    "\n",
    "orders_by_users_B = orders.query('group==\"B\"') \\\n",
    ".groupby('visitorId', as_index=False).agg({'transactionId':'nunique'})\n",
    "orders_by_users_B.columns = ['visitorId', 'orders']\n",
    "\n",
    "A_num_visitors = visitors.query('group==\"A\"').visitors.sum()\n",
    "B_num_visitors = visitors.query('group==\"B\"').visitors.sum()\n"
   ]
  },
  {
   "cell_type": "code",
   "execution_count": 33,
   "id": "0040ec9b",
   "metadata": {},
   "outputs": [],
   "source": [
    "sample_A = pd.concat(\n",
    "    [orders_by_users_A.orders, \\\n",
    "     pd.Series(0,index=np.arange(\n",
    "        A_num_visitors - len(orders_by_users_A.orders)), name='orders')], axis=0)"
   ]
  },
  {
   "cell_type": "code",
   "execution_count": 34,
   "id": "e9e02b88",
   "metadata": {},
   "outputs": [],
   "source": [
    "sample_B = pd.concat(\n",
    "    [orders_by_users_B.orders, \\\n",
    "     pd.Series(0,index=np.arange(\n",
    "        B_num_visitors - len(orders_by_users_B.orders)), name='orders')], axis=0)"
   ]
  },
  {
   "cell_type": "code",
   "execution_count": 35,
   "id": "6389f05a",
   "metadata": {
    "scrolled": true
   },
   "outputs": [
    {
     "name": "stdout",
     "output_type": "stream",
     "text": [
      "p-value, Mann-Whitney: 0.017\n",
      "Относительный прирост конверсии 0.138\n",
      "p-value, t-test: 0.048\n"
     ]
    }
   ],
   "source": [
    "print('p-value, Mann-Whitney:', '{0:.3f}'.format(stats.mannwhitneyu(sample_A, sample_B)[1]))\n",
    "print('Относительный прирост конверсии', '{0:.3f}'.format(sample_B.mean() / sample_A.mean() - 1))\n",
    "print('p-value, t-test:', '{0:.3f}'.format(stats.ttest_ind(sample_A, sample_B)[1]))"
   ]
  },
  {
   "cell_type": "markdown",
   "id": "ea4c9be3",
   "metadata": {},
   "source": [
    "***\n",
    "**И параметрический Т-тест, и непараметрический тест Манна-Уитни дают p-value менее установленного уровня значимости 0.05. У нас есть основания отвергнуть нулевую гипотезу, различия к конверсии между группами статистически значимы.**\n",
    "\n",
    "**Относительный прирост конверсии по сырым данным между группами В и А составил около 13,8%**\n",
    "***"
   ]
  },
  {
   "cell_type": "markdown",
   "id": "d908d02e",
   "metadata": {},
   "source": [
    "## Посчитайте статистическую значимость различий в среднем чеке заказа между группами по «сырым» данным. Сделайте выводы и предположения."
   ]
  },
  {
   "cell_type": "code",
   "execution_count": 36,
   "id": "1972c739",
   "metadata": {},
   "outputs": [
    {
     "name": "stdout",
     "output_type": "stream",
     "text": [
      "p-value, Mann-Whitney: 0.729\n",
      "Относительный прирост среднего чека 0.259\n",
      "p-value, t-test: 0.404\n"
     ]
    }
   ],
   "source": [
    "print('p-value, Mann-Whitney:', '{0:.3f}'.format(stats.mannwhitneyu(\n",
    "    orders.query('group==\"A\"').revenue, orders.query('group==\"B\"').revenue)[1]))\n",
    "print('Относительный прирост среднего чека', '{0:.3f}'.format(\n",
    "    orders.query('group==\"B\"').revenue.mean() / orders.query('group==\"A\"').revenue.mean() -1))\n",
    "print('p-value, t-test:', '{0:.3f}'.format(stats.ttest_ind(\n",
    "    orders.query('group==\"A\"').revenue, orders.query('group==\"B\"').revenue)[1]))"
   ]
  },
  {
   "cell_type": "markdown",
   "id": "e10e8752",
   "metadata": {},
   "source": [
    "***\n",
    "**Относительный прирост среднего чека по сырым данным составил 25%, однако эта разница, похоже, не значима статистически и обусловлена наличием выбросов. Оснований отвергнуть нулевую гипотезу нет**\n",
    "***"
   ]
  },
  {
   "cell_type": "markdown",
   "id": "0f5b64e9",
   "metadata": {},
   "source": [
    "## Посчитайте статистическую значимость различий в конверсии между группами по «очищенным» данным. Сделайте выводы и предположения."
   ]
  },
  {
   "cell_type": "code",
   "execution_count": 37,
   "id": "c3d1183e",
   "metadata": {},
   "outputs": [],
   "source": [
    "users_with_many_orders = pd.concat([orders_by_users_A.query('orders > 4').visitorId, \\\n",
    "                                   orders_by_users_B.query('orders > 4').visitorId], axis=0)\n",
    "users_with_expensive_orders = orders.query('revenue > 58233').visitorId\n",
    "\n",
    "abnormal_users = pd.concat([users_with_expensive_orders, users_with_many_orders], axis=0) \\\n",
    ".drop_duplicates().sort_values()"
   ]
  },
  {
   "cell_type": "code",
   "execution_count": 38,
   "id": "a4f925a2",
   "metadata": {},
   "outputs": [],
   "source": [
    "filtered_sample_A = pd.concat(\n",
    "    [orders_by_users_A\n",
    "     [np.logical_not(orders_by_users_A.visitorId.isin(abnormal_users))].orders, \\\n",
    "     pd.Series(0,index=np.arange(\n",
    "        A_num_visitors - len(orders_by_users_A.orders)), name='orders')], axis=0)"
   ]
  },
  {
   "cell_type": "code",
   "execution_count": 39,
   "id": "7ae00878",
   "metadata": {},
   "outputs": [],
   "source": [
    "filtered_sample_B = pd.concat(\n",
    "    [orders_by_users_B\n",
    "     [np.logical_not(orders_by_users_B.visitorId.isin(abnormal_users))].orders, \\\n",
    "     pd.Series(0,index=np.arange(\n",
    "        B_num_visitors - len(orders_by_users_B.orders)), name='orders')], axis=0)"
   ]
  },
  {
   "cell_type": "code",
   "execution_count": 40,
   "id": "101120c2",
   "metadata": {},
   "outputs": [
    {
     "name": "stdout",
     "output_type": "stream",
     "text": [
      "p-value, Mann-Whitney: 0.014\n",
      "Относительный прирост конверсии: 0.153\n",
      "p-value, ttest:0.025\n"
     ]
    }
   ],
   "source": [
    "print('p-value, Mann-Whitney:','{0:.3f}'.format(stats.mannwhitneyu(filtered_sample_A, filtered_sample_B)[1]))\n",
    "print(\"Относительный прирост конверсии:\",'{0:.3f}'.format(filtered_sample_B.mean() / filtered_sample_A.mean() - 1))\n",
    "print('p-value, ttest:''{0:.3f}'.format(stats.ttest_ind(filtered_sample_A, filtered_sample_B)[1]))"
   ]
  },
  {
   "cell_type": "markdown",
   "id": "f7c22081",
   "metadata": {},
   "source": [
    "***\n",
    "**При проверке гипотезы на очищенных данных статистическая значимость наших выводов не меняется - можно принять альтернативную гипотезу о значимых различиях конверсии между группами. Относительный прирост на очищенных данных составил 15.3%**\n",
    "***"
   ]
  },
  {
   "cell_type": "markdown",
   "id": "3b81a1f0",
   "metadata": {},
   "source": [
    "## Посчитайте статистическую значимость различий в среднем чеке заказа между группами по «очищенным» данным. Сделайте выводы и предположения."
   ]
  },
  {
   "cell_type": "code",
   "execution_count": 41,
   "id": "da24a835",
   "metadata": {},
   "outputs": [
    {
     "name": "stdout",
     "output_type": "stream",
     "text": [
      "p-value, Mann-Whitney: 0.851\n",
      "Относительный прирост среднего чека -0.006\n"
     ]
    }
   ],
   "source": [
    "print('p-value, Mann-Whitney:','{0:.3f}'.format(\n",
    "    stats.mannwhitneyu(\n",
    "        orders[np.logical_and(\n",
    "            orders.group == 'A', np.logical_not(\n",
    "                orders.visitorId.isin(abnormal_users)),)]['revenue'],\n",
    "    orders[np.logical_and(orders.group=='B', np.logical_not(orders.visitorId.isin(abnormal_users)),)]['revenue'],)[1]))\n",
    "\n",
    "\n",
    "\n",
    "print('Относительный прирост среднего чека','{0:.3f}'.format(\n",
    "        orders[np.logical_and(\n",
    "            orders['group']=='B',\n",
    "                np.logical_not(orders.visitorId.isin(abnormal_users)),)]['revenue'].mean()\n",
    "    / orders[np.logical_and(\n",
    "                orders['group'] == 'A',\n",
    "                np.logical_not(orders.visitorId.isin(abnormal_users)),)]['revenue'].mean()- 1)) \n"
   ]
  },
  {
   "cell_type": "markdown",
   "id": "1a36d03c",
   "metadata": {},
   "source": [
    "***\n",
    "**После очистки относительный рост среднего чека практически отсутствует(по неочищенным - целых 25%!). Похоже, нулевая гипотеза верна и статистически значимых отличий в среднем чеке между группами нет**\n",
    "\n",
    "***"
   ]
  },
  {
   "cell_type": "markdown",
   "id": "2b03c271",
   "metadata": {},
   "source": [
    "# Примите решение по результатам теста и объясните его. Варианты решений: 1. Остановить тест, зафиксировать победу одной из групп. 2. Остановить тест, зафиксировать отсутствие различий между группами. 3. Продолжить тест."
   ]
  },
  {
   "cell_type": "markdown",
   "id": "0bf8e88c",
   "metadata": {},
   "source": [
    "Кумулятивные показатели группы В выше, чем в группе А:\n",
    "- кумулятивная выручка на 30-й день выше почти на 200.000 рублей\n",
    "- кумулятивный средний чек - на 2000 рублей (10.000 против 8000)\n",
    "- кумулятивная конверсия выше на 0.4% в абсолютных значениях (3.1% против 2.7%) и на 15% - в относительных\n",
    "\n",
    "В данных есть выбросы - пользователи с аномально большим количеством заказов и заказы на аномально большие суммы. \n",
    "Мы избавились от заказов на сумму более 58.000 рублей и пользователей, сделавших более 4 заказов - то есть отсекли последний процентиль в каждом случае - и проанализировали показатели обеих групп, сравнили их друг с другом и проверили гипотезы о равенстве конверсии и суммы среднего чека.\n",
    "\n",
    "Применив непараметрический критерий Манна-Уитни в случае конверсии мы получили статистически значимые отличия между группами В и А b и на сырых, и на очищенных данных (p-value = 0.017 и 0.015, соответственно). Относительный прирост составил 13,8 и 15,4 процента, соответственно. Мы можем принять альтернативную гипотезу.\n",
    "\n",
    "В случае среднего чека нулевую гипотезу опровергнуть не удалось - p-value равен 0.729 для сырых данных и 0.851 для очищенных. Относительный прирост на очищенных данных практически отсутствует, разница 0.006 в пользу группы А\n",
    "\n",
    "Принято решение остановить тест. Фиксируем относительный прирост конверсии в группе В на 15%, при отсутствии различий с сумме среднего чека.\n",
    "\n"
   ]
  }
 ],
 "metadata": {
  "ExecuteTimeLog": [
   {
    "duration": 1275,
    "start_time": "2022-06-08T20:33:55.053Z"
   },
   {
    "duration": 269,
    "start_time": "2022-06-08T20:33:56.330Z"
   },
   {
    "duration": 11,
    "start_time": "2022-06-08T20:33:56.601Z"
   },
   {
    "duration": 19,
    "start_time": "2022-06-08T20:33:56.614Z"
   },
   {
    "duration": 13,
    "start_time": "2022-06-08T20:33:56.634Z"
   },
   {
    "duration": 25,
    "start_time": "2022-06-08T20:33:56.649Z"
   },
   {
    "duration": 15,
    "start_time": "2022-06-08T20:33:56.675Z"
   },
   {
    "duration": 12,
    "start_time": "2022-06-08T20:33:56.692Z"
   },
   {
    "duration": 13,
    "start_time": "2022-06-08T20:33:56.706Z"
   },
   {
    "duration": 11,
    "start_time": "2022-06-08T20:33:56.725Z"
   },
   {
    "duration": 8,
    "start_time": "2022-06-08T20:33:56.737Z"
   },
   {
    "duration": 170,
    "start_time": "2022-06-08T20:33:56.746Z"
   },
   {
    "duration": 284,
    "start_time": "2022-06-08T20:33:56.918Z"
   },
   {
    "duration": 241,
    "start_time": "2022-06-08T20:33:57.204Z"
   },
   {
    "duration": 231,
    "start_time": "2022-06-08T20:33:57.447Z"
   },
   {
    "duration": 6,
    "start_time": "2022-06-08T20:33:57.680Z"
   },
   {
    "duration": 403,
    "start_time": "2022-06-08T20:33:57.687Z"
   },
   {
    "duration": 124,
    "start_time": "2022-06-08T20:33:58.092Z"
   },
   {
    "duration": 7,
    "start_time": "2022-06-08T20:33:58.226Z"
   },
   {
    "duration": 462,
    "start_time": "2022-06-08T20:33:58.235Z"
   },
   {
    "duration": 351,
    "start_time": "2022-06-08T20:33:58.699Z"
   },
   {
    "duration": 238,
    "start_time": "2022-06-08T20:33:59.052Z"
   },
   {
    "duration": 5,
    "start_time": "2022-06-08T20:33:59.291Z"
   },
   {
    "duration": 282,
    "start_time": "2022-06-08T20:33:59.298Z"
   },
   {
    "duration": 4,
    "start_time": "2022-06-08T20:33:59.582Z"
   },
   {
    "duration": 30,
    "start_time": "2022-06-08T20:33:59.588Z"
   },
   {
    "duration": 7,
    "start_time": "2022-06-08T20:33:59.619Z"
   },
   {
    "duration": 4,
    "start_time": "2022-06-08T20:33:59.628Z"
   },
   {
    "duration": 25,
    "start_time": "2022-06-08T20:33:59.634Z"
   },
   {
    "duration": 18,
    "start_time": "2022-06-08T20:33:59.660Z"
   },
   {
    "duration": 6,
    "start_time": "2022-06-08T20:33:59.679Z"
   },
   {
    "duration": 9,
    "start_time": "2022-06-08T20:33:59.687Z"
   },
   {
    "duration": 12,
    "start_time": "2022-06-08T20:33:59.698Z"
   },
   {
    "duration": 22,
    "start_time": "2022-06-08T20:33:59.726Z"
   },
   {
    "duration": 19,
    "start_time": "2022-06-08T20:33:59.750Z"
   },
   {
    "duration": 42,
    "start_time": "2022-06-09T07:39:47.066Z"
   },
   {
    "duration": 6,
    "start_time": "2022-06-09T07:40:00.775Z"
   },
   {
    "duration": 1182,
    "start_time": "2022-06-09T07:40:07.557Z"
   },
   {
    "duration": 440,
    "start_time": "2022-06-09T07:40:10.414Z"
   },
   {
    "duration": 23,
    "start_time": "2022-06-09T07:40:17.917Z"
   },
   {
    "duration": 12,
    "start_time": "2022-06-09T07:40:20.496Z"
   },
   {
    "duration": 84,
    "start_time": "2022-06-09T07:40:22.061Z"
   },
   {
    "duration": 3,
    "start_time": "2022-06-09T07:41:21.203Z"
   },
   {
    "duration": 153,
    "start_time": "2022-06-09T07:41:21.209Z"
   },
   {
    "duration": 7,
    "start_time": "2022-06-09T07:41:21.364Z"
   },
   {
    "duration": 21,
    "start_time": "2022-06-09T07:41:21.372Z"
   },
   {
    "duration": 15,
    "start_time": "2022-06-09T07:41:21.395Z"
   },
   {
    "duration": 4,
    "start_time": "2022-06-09T07:41:21.411Z"
   },
   {
    "duration": 20,
    "start_time": "2022-06-09T07:41:21.416Z"
   },
   {
    "duration": 13,
    "start_time": "2022-06-09T07:41:21.437Z"
   },
   {
    "duration": 15,
    "start_time": "2022-06-09T07:41:21.451Z"
   },
   {
    "duration": 15,
    "start_time": "2022-06-09T07:41:21.468Z"
   },
   {
    "duration": 16,
    "start_time": "2022-06-09T07:41:21.485Z"
   },
   {
    "duration": 176,
    "start_time": "2022-06-09T07:41:21.502Z"
   },
   {
    "duration": 313,
    "start_time": "2022-06-09T07:41:21.679Z"
   },
   {
    "duration": 220,
    "start_time": "2022-06-09T07:41:21.993Z"
   },
   {
    "duration": 206,
    "start_time": "2022-06-09T07:41:22.214Z"
   },
   {
    "duration": 6,
    "start_time": "2022-06-09T07:41:22.422Z"
   },
   {
    "duration": 359,
    "start_time": "2022-06-09T07:41:22.429Z"
   },
   {
    "duration": 120,
    "start_time": "2022-06-09T07:41:22.790Z"
   },
   {
    "duration": 7,
    "start_time": "2022-06-09T07:41:22.911Z"
   },
   {
    "duration": 377,
    "start_time": "2022-06-09T07:41:22.919Z"
   },
   {
    "duration": 283,
    "start_time": "2022-06-09T07:41:23.298Z"
   },
   {
    "duration": 209,
    "start_time": "2022-06-09T07:41:23.583Z"
   },
   {
    "duration": 5,
    "start_time": "2022-06-09T07:41:23.794Z"
   },
   {
    "duration": 252,
    "start_time": "2022-06-09T07:41:23.800Z"
   },
   {
    "duration": 4,
    "start_time": "2022-06-09T07:41:24.053Z"
   },
   {
    "duration": 25,
    "start_time": "2022-06-09T07:41:24.058Z"
   },
   {
    "duration": 4,
    "start_time": "2022-06-09T07:41:24.084Z"
   },
   {
    "duration": 11,
    "start_time": "2022-06-09T07:41:24.089Z"
   },
   {
    "duration": 32,
    "start_time": "2022-06-09T07:41:24.103Z"
   },
   {
    "duration": 19,
    "start_time": "2022-06-09T07:41:24.136Z"
   },
   {
    "duration": 6,
    "start_time": "2022-06-09T07:41:24.156Z"
   },
   {
    "duration": 11,
    "start_time": "2022-06-09T07:41:24.163Z"
   },
   {
    "duration": 15,
    "start_time": "2022-06-09T07:41:24.175Z"
   },
   {
    "duration": 30,
    "start_time": "2022-06-09T07:41:24.191Z"
   },
   {
    "duration": 19,
    "start_time": "2022-06-09T07:41:24.223Z"
   },
   {
    "duration": 6,
    "start_time": "2022-06-09T07:41:57.110Z"
   },
   {
    "duration": 7,
    "start_time": "2022-06-09T07:42:15.381Z"
   },
   {
    "duration": 5,
    "start_time": "2022-06-09T07:43:02.394Z"
   },
   {
    "duration": 5,
    "start_time": "2022-06-09T07:43:25.080Z"
   },
   {
    "duration": 5,
    "start_time": "2022-06-09T07:43:33.650Z"
   },
   {
    "duration": 6,
    "start_time": "2022-06-09T07:43:52.662Z"
   },
   {
    "duration": 4,
    "start_time": "2022-06-09T07:44:16.195Z"
   },
   {
    "duration": 6,
    "start_time": "2022-06-09T07:44:28.940Z"
   },
   {
    "duration": 10,
    "start_time": "2022-06-09T07:47:06.037Z"
   },
   {
    "duration": 10,
    "start_time": "2022-06-09T07:47:13.177Z"
   },
   {
    "duration": 10,
    "start_time": "2022-06-09T07:47:41.776Z"
   },
   {
    "duration": 7,
    "start_time": "2022-06-09T07:48:37.076Z"
   },
   {
    "duration": 5,
    "start_time": "2022-06-09T07:48:59.275Z"
   },
   {
    "duration": 7,
    "start_time": "2022-06-09T07:49:14.698Z"
   },
   {
    "duration": 13,
    "start_time": "2022-06-09T07:51:52.604Z"
   },
   {
    "duration": 9,
    "start_time": "2022-06-09T07:51:57.488Z"
   },
   {
    "duration": 10,
    "start_time": "2022-06-09T08:06:53.818Z"
   },
   {
    "duration": 3,
    "start_time": "2022-06-09T08:07:03.456Z"
   },
   {
    "duration": 8,
    "start_time": "2022-06-09T08:07:08.618Z"
   },
   {
    "duration": 4,
    "start_time": "2022-06-09T08:07:18.266Z"
   },
   {
    "duration": 12,
    "start_time": "2022-06-09T08:07:44.078Z"
   },
   {
    "duration": 8,
    "start_time": "2022-06-09T08:07:50.651Z"
   },
   {
    "duration": 8,
    "start_time": "2022-06-09T08:08:10.929Z"
   },
   {
    "duration": 3,
    "start_time": "2022-06-09T08:08:19.767Z"
   },
   {
    "duration": 9,
    "start_time": "2022-06-09T08:08:24.709Z"
   },
   {
    "duration": 7,
    "start_time": "2022-06-09T08:10:09.140Z"
   },
   {
    "duration": 13,
    "start_time": "2022-06-09T08:10:38.364Z"
   },
   {
    "duration": 7,
    "start_time": "2022-06-09T08:11:06.051Z"
   },
   {
    "duration": 15,
    "start_time": "2022-06-09T08:24:51.293Z"
   },
   {
    "duration": 12,
    "start_time": "2022-06-09T08:24:56.276Z"
   },
   {
    "duration": 270,
    "start_time": "2022-06-09T08:39:05.634Z"
   },
   {
    "duration": 279,
    "start_time": "2022-06-09T08:39:13.728Z"
   },
   {
    "duration": 334,
    "start_time": "2022-06-09T08:39:22.432Z"
   },
   {
    "duration": 331,
    "start_time": "2022-06-09T08:39:29.570Z"
   },
   {
    "duration": 276,
    "start_time": "2022-06-09T08:39:34.241Z"
   },
   {
    "duration": 271,
    "start_time": "2022-06-09T08:39:40.624Z"
   },
   {
    "duration": 306,
    "start_time": "2022-06-09T08:39:47.895Z"
   },
   {
    "duration": 43,
    "start_time": "2022-06-09T08:42:06.130Z"
   },
   {
    "duration": 7,
    "start_time": "2022-06-09T08:42:28.456Z"
   },
   {
    "duration": 17,
    "start_time": "2022-06-09T08:42:33.682Z"
   },
   {
    "duration": 9,
    "start_time": "2022-06-09T08:42:49.638Z"
   },
   {
    "duration": 6,
    "start_time": "2022-06-09T08:43:54.116Z"
   },
   {
    "duration": 12,
    "start_time": "2022-06-09T08:48:42.500Z"
   },
   {
    "duration": 15,
    "start_time": "2022-06-09T08:48:43.565Z"
   },
   {
    "duration": 8,
    "start_time": "2022-06-09T08:48:43.889Z"
   },
   {
    "duration": 4,
    "start_time": "2022-06-09T08:48:44.890Z"
   },
   {
    "duration": 4,
    "start_time": "2022-06-09T08:48:45.475Z"
   },
   {
    "duration": 19,
    "start_time": "2022-06-09T08:48:46.060Z"
   },
   {
    "duration": 7,
    "start_time": "2022-06-09T08:49:46.096Z"
   },
   {
    "duration": 7,
    "start_time": "2022-06-09T08:55:31.559Z"
   },
   {
    "duration": 7,
    "start_time": "2022-06-09T08:58:11.496Z"
   },
   {
    "duration": 10,
    "start_time": "2022-06-09T09:00:28.301Z"
   },
   {
    "duration": 9,
    "start_time": "2022-06-09T09:00:37.295Z"
   },
   {
    "duration": 7,
    "start_time": "2022-06-09T09:02:08.290Z"
   },
   {
    "duration": 7,
    "start_time": "2022-06-09T09:02:46.162Z"
   },
   {
    "duration": 7,
    "start_time": "2022-06-09T09:02:50.544Z"
   },
   {
    "duration": 4,
    "start_time": "2022-06-09T09:03:44.899Z"
   },
   {
    "duration": 4,
    "start_time": "2022-06-09T09:06:05.814Z"
   },
   {
    "duration": 5,
    "start_time": "2022-06-09T09:06:51.184Z"
   },
   {
    "duration": 21,
    "start_time": "2022-06-09T09:06:55.867Z"
   },
   {
    "duration": 53,
    "start_time": "2022-06-09T09:12:27.770Z"
   },
   {
    "duration": 34,
    "start_time": "2022-06-09T09:12:36.560Z"
   },
   {
    "duration": 32,
    "start_time": "2022-06-09T09:13:52.187Z"
   },
   {
    "duration": 9,
    "start_time": "2022-06-09T09:14:29.348Z"
   },
   {
    "duration": 10,
    "start_time": "2022-06-09T09:14:37.404Z"
   },
   {
    "duration": 4,
    "start_time": "2022-06-09T09:15:40.069Z"
   },
   {
    "duration": 34,
    "start_time": "2022-06-09T09:16:07.860Z"
   },
   {
    "duration": 24,
    "start_time": "2022-06-09T09:16:23.897Z"
   },
   {
    "duration": 42,
    "start_time": "2022-06-09T09:17:48.488Z"
   },
   {
    "duration": 26,
    "start_time": "2022-06-09T09:17:56.359Z"
   },
   {
    "duration": 53,
    "start_time": "2022-06-09T09:19:39.290Z"
   },
   {
    "duration": 27,
    "start_time": "2022-06-09T09:19:58.113Z"
   },
   {
    "duration": 134,
    "start_time": "2022-06-09T09:20:10.467Z"
   },
   {
    "duration": 30,
    "start_time": "2022-06-09T09:20:15.010Z"
   },
   {
    "duration": 122,
    "start_time": "2022-06-09T09:20:25.304Z"
   },
   {
    "duration": 15,
    "start_time": "2022-06-09T09:20:27.421Z"
   },
   {
    "duration": 14,
    "start_time": "2022-06-09T09:21:40.564Z"
   },
   {
    "duration": 11,
    "start_time": "2022-06-09T09:23:19.955Z"
   },
   {
    "duration": 12,
    "start_time": "2022-06-09T09:23:47.695Z"
   },
   {
    "duration": 10,
    "start_time": "2022-06-09T09:24:00.223Z"
   },
   {
    "duration": 20,
    "start_time": "2022-06-09T09:24:07.364Z"
   },
   {
    "duration": 30,
    "start_time": "2022-06-09T09:25:16.055Z"
   },
   {
    "duration": 17,
    "start_time": "2022-06-09T09:25:25.146Z"
   },
   {
    "duration": 5,
    "start_time": "2022-06-09T09:26:09.129Z"
   },
   {
    "duration": 20,
    "start_time": "2022-06-09T09:26:09.551Z"
   },
   {
    "duration": 16,
    "start_time": "2022-06-09T09:26:16.805Z"
   },
   {
    "duration": 23,
    "start_time": "2022-06-09T09:28:25.156Z"
   },
   {
    "duration": 12,
    "start_time": "2022-06-09T09:28:38.790Z"
   },
   {
    "duration": 1066,
    "start_time": "2022-06-09T09:34:08.453Z"
   },
   {
    "duration": 354,
    "start_time": "2022-06-09T09:34:09.520Z"
   },
   {
    "duration": 10,
    "start_time": "2022-06-09T09:34:09.876Z"
   },
   {
    "duration": 19,
    "start_time": "2022-06-09T09:34:09.888Z"
   },
   {
    "duration": 18,
    "start_time": "2022-06-09T09:34:09.909Z"
   },
   {
    "duration": 4,
    "start_time": "2022-06-09T09:34:09.928Z"
   },
   {
    "duration": 13,
    "start_time": "2022-06-09T09:34:09.934Z"
   },
   {
    "duration": 7,
    "start_time": "2022-06-09T09:34:09.948Z"
   },
   {
    "duration": 28,
    "start_time": "2022-06-09T09:34:09.956Z"
   },
   {
    "duration": 8,
    "start_time": "2022-06-09T09:34:09.985Z"
   },
   {
    "duration": 7,
    "start_time": "2022-06-09T09:34:09.995Z"
   },
   {
    "duration": 7,
    "start_time": "2022-06-09T09:34:10.003Z"
   },
   {
    "duration": 11,
    "start_time": "2022-06-09T09:34:10.012Z"
   },
   {
    "duration": 12,
    "start_time": "2022-06-09T09:34:10.026Z"
   },
   {
    "duration": 11,
    "start_time": "2022-06-09T09:34:10.039Z"
   },
   {
    "duration": 12,
    "start_time": "2022-06-09T09:34:10.078Z"
   },
   {
    "duration": 20,
    "start_time": "2022-06-09T09:34:10.091Z"
   },
   {
    "duration": 6,
    "start_time": "2022-06-09T09:34:10.112Z"
   },
   {
    "duration": 7,
    "start_time": "2022-06-09T09:34:10.119Z"
   },
   {
    "duration": 8,
    "start_time": "2022-06-09T09:34:10.127Z"
   },
   {
    "duration": 156,
    "start_time": "2022-06-09T09:34:10.136Z"
   },
   {
    "duration": 275,
    "start_time": "2022-06-09T09:34:10.293Z"
   },
   {
    "duration": 201,
    "start_time": "2022-06-09T09:34:10.569Z"
   },
   {
    "duration": 215,
    "start_time": "2022-06-09T09:34:10.771Z"
   },
   {
    "duration": 5,
    "start_time": "2022-06-09T09:34:10.988Z"
   },
   {
    "duration": 301,
    "start_time": "2022-06-09T09:34:10.995Z"
   },
   {
    "duration": 125,
    "start_time": "2022-06-09T09:34:11.298Z"
   },
   {
    "duration": 6,
    "start_time": "2022-06-09T09:34:11.425Z"
   },
   {
    "duration": 380,
    "start_time": "2022-06-09T09:34:11.432Z"
   },
   {
    "duration": 268,
    "start_time": "2022-06-09T09:34:11.814Z"
   },
   {
    "duration": 220,
    "start_time": "2022-06-09T09:34:12.084Z"
   },
   {
    "duration": 5,
    "start_time": "2022-06-09T09:34:12.306Z"
   },
   {
    "duration": 269,
    "start_time": "2022-06-09T09:34:12.312Z"
   },
   {
    "duration": 6,
    "start_time": "2022-06-09T09:34:12.582Z"
   },
   {
    "duration": 15,
    "start_time": "2022-06-09T09:34:12.590Z"
   },
   {
    "duration": 3,
    "start_time": "2022-06-09T09:34:12.607Z"
   },
   {
    "duration": 7,
    "start_time": "2022-06-09T09:34:12.612Z"
   },
   {
    "duration": 25,
    "start_time": "2022-06-09T09:34:12.620Z"
   },
   {
    "duration": 42,
    "start_time": "2022-06-09T09:34:12.646Z"
   },
   {
    "duration": 10,
    "start_time": "2022-06-09T09:34:12.689Z"
   },
   {
    "duration": 5,
    "start_time": "2022-06-09T09:34:12.702Z"
   },
   {
    "duration": 6,
    "start_time": "2022-06-09T09:34:12.709Z"
   },
   {
    "duration": 27,
    "start_time": "2022-06-09T09:34:12.717Z"
   },
   {
    "duration": 35,
    "start_time": "2022-06-09T09:34:12.745Z"
   },
   {
    "duration": 5,
    "start_time": "2022-06-09T09:38:12.058Z"
   },
   {
    "duration": 3,
    "start_time": "2022-06-09T09:38:31.547Z"
   },
   {
    "duration": 4,
    "start_time": "2022-06-09T09:38:51.720Z"
   },
   {
    "duration": 989,
    "start_time": "2022-06-09T09:40:42.573Z"
   },
   {
    "duration": 141,
    "start_time": "2022-06-09T09:40:43.563Z"
   },
   {
    "duration": 10,
    "start_time": "2022-06-09T09:40:43.706Z"
   },
   {
    "duration": 25,
    "start_time": "2022-06-09T09:40:43.718Z"
   },
   {
    "duration": 13,
    "start_time": "2022-06-09T09:40:43.744Z"
   },
   {
    "duration": 3,
    "start_time": "2022-06-09T09:40:43.759Z"
   },
   {
    "duration": 5,
    "start_time": "2022-06-09T09:40:43.763Z"
   },
   {
    "duration": 10,
    "start_time": "2022-06-09T09:40:43.770Z"
   },
   {
    "duration": 15,
    "start_time": "2022-06-09T09:40:43.782Z"
   },
   {
    "duration": 13,
    "start_time": "2022-06-09T09:40:43.799Z"
   },
   {
    "duration": 8,
    "start_time": "2022-06-09T09:40:43.813Z"
   },
   {
    "duration": 8,
    "start_time": "2022-06-09T09:40:43.823Z"
   },
   {
    "duration": 12,
    "start_time": "2022-06-09T09:40:43.832Z"
   },
   {
    "duration": 11,
    "start_time": "2022-06-09T09:40:43.845Z"
   },
   {
    "duration": 8,
    "start_time": "2022-06-09T09:40:43.878Z"
   },
   {
    "duration": 4,
    "start_time": "2022-06-09T09:40:43.887Z"
   },
   {
    "duration": 6,
    "start_time": "2022-06-09T09:40:43.892Z"
   },
   {
    "duration": 156,
    "start_time": "2022-06-09T09:40:43.899Z"
   },
   {
    "duration": 278,
    "start_time": "2022-06-09T09:40:44.056Z"
   },
   {
    "duration": 204,
    "start_time": "2022-06-09T09:40:44.335Z"
   },
   {
    "duration": 214,
    "start_time": "2022-06-09T09:40:44.541Z"
   },
   {
    "duration": 6,
    "start_time": "2022-06-09T09:40:44.756Z"
   },
   {
    "duration": 314,
    "start_time": "2022-06-09T09:40:44.764Z"
   },
   {
    "duration": 118,
    "start_time": "2022-06-09T09:40:45.080Z"
   },
   {
    "duration": 7,
    "start_time": "2022-06-09T09:40:45.199Z"
   },
   {
    "duration": 405,
    "start_time": "2022-06-09T09:40:45.207Z"
   },
   {
    "duration": 270,
    "start_time": "2022-06-09T09:40:45.614Z"
   },
   {
    "duration": 209,
    "start_time": "2022-06-09T09:40:45.886Z"
   },
   {
    "duration": 5,
    "start_time": "2022-06-09T09:40:46.096Z"
   },
   {
    "duration": 258,
    "start_time": "2022-06-09T09:40:46.102Z"
   },
   {
    "duration": 6,
    "start_time": "2022-06-09T09:40:46.362Z"
   },
   {
    "duration": 34,
    "start_time": "2022-06-09T09:40:46.369Z"
   },
   {
    "duration": 13,
    "start_time": "2022-06-09T09:40:46.405Z"
   },
   {
    "duration": 20,
    "start_time": "2022-06-09T09:40:46.420Z"
   },
   {
    "duration": 36,
    "start_time": "2022-06-09T09:40:46.442Z"
   },
   {
    "duration": 21,
    "start_time": "2022-06-09T09:40:46.480Z"
   },
   {
    "duration": 18,
    "start_time": "2022-06-09T09:40:46.503Z"
   },
   {
    "duration": 15,
    "start_time": "2022-06-09T09:40:46.523Z"
   },
   {
    "duration": 17,
    "start_time": "2022-06-09T09:40:46.540Z"
   },
   {
    "duration": 45,
    "start_time": "2022-06-09T09:40:46.559Z"
   },
   {
    "duration": 13,
    "start_time": "2022-06-09T09:40:46.606Z"
   }
  ],
  "hide_input": false,
  "kernelspec": {
   "display_name": "Python 3 (ipykernel)",
   "language": "python",
   "name": "python3"
  },
  "language_info": {
   "codemirror_mode": {
    "name": "ipython",
    "version": 3
   },
   "file_extension": ".py",
   "mimetype": "text/x-python",
   "name": "python",
   "nbconvert_exporter": "python",
   "pygments_lexer": "ipython3",
   "version": "3.9.12"
  },
  "toc": {
   "base_numbering": 1,
   "nav_menu": {},
   "number_sections": false,
   "sideBar": true,
   "skip_h1_title": false,
   "title_cell": "Table of Contents",
   "title_sidebar": "Contents",
   "toc_cell": false,
   "toc_position": {},
   "toc_section_display": true,
   "toc_window_display": true
  }
 },
 "nbformat": 4,
 "nbformat_minor": 5
}
